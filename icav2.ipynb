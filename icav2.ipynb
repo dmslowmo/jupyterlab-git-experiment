{
 "cells": [
  {
   "cell_type": "code",
   "execution_count": 19,
   "id": "7d9e53e8-7f6f-46af-b434-5c08628d040f",
   "metadata": {},
   "outputs": [],
   "source": [
    "# Wrapper modules\n",
    "import icav2\n",
    "from icav2.api import project_data_api\n",
    "from icav2.model.problem import Problem\n",
    "from icav2.model.project_data import ProjectData\n",
    "\n",
    "# Helper modules\n",
    "import random\n",
    "import os\n",
    "import requests\n",
    "import string\n",
    "import hashlib\n",
    "import getpass"
   ]
  },
  {
   "cell_type": "code",
   "execution_count": 21,
   "id": "4eeca61c-3ecb-4079-a2fa-7a29e3a1e957",
   "metadata": {},
   "outputs": [
    {
     "name": "stdin",
     "output_type": "stream",
     "text": [
      " ·····················\n"
     ]
    }
   ],
   "source": [
    "#fol.9d53bbcf7032432ffe4f08da6a35c6a2\n",
    "\n",
    "## Authenticate using ICA API TOKEN\n",
    "configuration = icav2.Configuration(\n",
    "    host = 'https://ica.illumina.com/ica/rest'\n",
    ")\n",
    "# You will be prompted to enter your API Key here\n",
    "configuration.api_key['ApiKeyAuth'] = getpass.getpass()\n",
    "# print(configuration.api_key['ApiKeyAuth'])\n",
    "\n",
    "apiClient = icav2.ApiClient(configuration, header_name=\"Content-Type\",header_value=\"application/vnd.illumina.v3+json\")"
   ]
  },
  {
   "cell_type": "code",
   "execution_count": 22,
   "id": "79e728f9-5af5-4dc4-a8ff-fea6bd111ce5",
   "metadata": {},
   "outputs": [],
   "source": [
    "projectId = os.environ['ICA_PROJECT']\n",
    "# Create a Project Data API client instance\n",
    "projectDataApiInstance = project_data_api.ProjectDataApi(apiClient)"
   ]
  },
  {
   "cell_type": "code",
   "execution_count": 23,
   "id": "615eef62-4981-46bb-b201-62949acb3244",
   "metadata": {},
   "outputs": [
    {
     "name": "stdout",
     "output_type": "stream",
     "text": [
      "Exception when calling ProjectDataAPIApi->create_data_in_project: (409)\n",
      "Reason: Conflict\n",
      "HTTP response headers: HTTPHeaderDict({'Date': 'Mon, 15 Aug 2022 01:05:50 GMT', 'Content-Type': 'application/problem+json', 'Content-Length': '437', 'Connection': 'keep-alive', 'Set-Cookie': 'INGRESSCOOKIE=e2205252de28c3955f93cc53938f6d1f; Max-Age=43200; Path=/ica/rest/api; HttpOnly', 'Access-Control-Allow-Origin': '*', 'Access-Control-Allow-Credentials': 'true', 'Access-Control-Allow-Methods': 'GET, PUT, POST, DELETE, PATCH, OPTIONS', 'Access-Control-Allow-Headers': 'DNT,X-CustomHeader,Keep-Alive,User-Agent,X-Requested-With,If-Modified-Since,Cache-Control,Content-Type,Authorization'})\n",
      "HTTP response body: {\"id\":\"62d3c7f2-9fe7-4ab8-bfa4-a08f25c2fee9\",\"type\":\"about:blank\",\"title\":\"ICA_GNRC_002\",\"status\":409,\"detail\":\"Unable to create file: Existing file at requested path\",\"instance\":\"http://ica.illumina.com/ica/rest/api/projects/269634/data\",\"parameters\":{},\"timestamp\":\"2022-08-15T01:05:50Z\",\"method\":\"POST\",\"userId\":\"8b67636d-9df4-30f1-a8d8-a1e1dd01a680\",\"tenantName\":\"ilmn-prod-precise\",\"tenantId\":\"23c6b713-c0e7-45aa-9f04-a3a7145cce3e\"}\n",
      "\n",
      "\n"
     ]
    }
   ],
   "source": [
    "# Create data element in a project\n",
    "folder = icav2.model.create_data.CreateData(name=\"metric_files\", data_type=\"FOLDER\")\n",
    "try:\n",
    "    projectFolder = projectDataApiInstance.create_data_in_project(projectId, create_data=folder)\n",
    "    folderId = projectFolder.data.id\n",
    "except icav2.ApiException as e:\n",
    "    print(\"Exception when calling ProjectDataAPIApi->create_data_in_project: %s\\n\" % e)\n",
    "\n",
    "data = icav2.model.create_data.CreateData(name=\"metric_files/metric_files.zip\",data_type = \"FILE\")\n",
    "try:\n",
    "    projectData = projectDataApiInstance.create_data_in_project(projectId, create_data=data)\n",
    "    fileId = projectData.data.id\n",
    "except icav2.ApiException as e:\n",
    "    print(\"Exception when calling ProjectDataAPIApi->create_data_in_project: %s\\n\" % e)"
   ]
  },
  {
   "cell_type": "code",
   "execution_count": null,
   "id": "3c726fac-c31a-40ed-a07c-8794a247e128",
   "metadata": {},
   "outputs": [],
   "source": []
  }
 ],
 "metadata": {
  "kernelspec": {
   "display_name": "Python 3 (ipykernel)",
   "language": "python",
   "name": "python3"
  },
  "language_info": {
   "codemirror_mode": {
    "name": "ipython",
    "version": 3
   },
   "file_extension": ".py",
   "mimetype": "text/x-python",
   "name": "python",
   "nbconvert_exporter": "python",
   "pygments_lexer": "ipython3",
   "version": "3.7.12"
  }
 },
 "nbformat": 4,
 "nbformat_minor": 5
}
