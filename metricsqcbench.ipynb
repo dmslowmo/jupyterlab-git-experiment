{
 "cells": [
  {
   "cell_type": "code",
   "execution_count": 1,
   "metadata": {
    "collapsed": false,
    "jupyter": {
     "outputs_hidden": false
    },
    "pycharm": {
     "name": "#%%\n"
    }
   },
   "outputs": [
    {
     "name": "stdout",
     "output_type": "stream",
     "text": [
      "Defaulting to user installation because normal site-packages is not writeable\n",
      "Requirement already satisfied: pip in ./.local/lib/python3.7/site-packages (22.2.2)\n",
      "Note: you may need to restart the kernel to use updated packages.\n",
      "Defaulting to user installation because normal site-packages is not writeable\n",
      "Requirement already satisfied: boto3 in ./.local/lib/python3.7/site-packages (1.24.50)\n",
      "Requirement already satisfied: jmespath<2.0.0,>=0.7.1 in ./.local/lib/python3.7/site-packages (from boto3) (1.0.1)\n",
      "Requirement already satisfied: botocore<1.28.0,>=1.27.50 in ./.local/lib/python3.7/site-packages (from boto3) (1.27.50)\n",
      "Requirement already satisfied: s3transfer<0.7.0,>=0.6.0 in ./.local/lib/python3.7/site-packages (from boto3) (0.6.0)\n",
      "Requirement already satisfied: python-dateutil<3.0.0,>=2.1 in /usr/local/lib/python3.7/site-packages (from botocore<1.28.0,>=1.27.50->boto3) (2.8.2)\n",
      "Requirement already satisfied: urllib3<1.27,>=1.25.4 in /usr/local/lib/python3.7/site-packages (from botocore<1.28.0,>=1.27.50->boto3) (1.26.7)\n",
      "Requirement already satisfied: six>=1.5 in /usr/local/lib/python3.7/site-packages (from python-dateutil<3.0.0,>=2.1->botocore<1.28.0,>=1.27.50->boto3) (1.16.0)\n",
      "Note: you may need to restart the kernel to use updated packages.\n",
      "Defaulting to user installation because normal site-packages is not writeable\n",
      "Requirement already satisfied: botocore in ./.local/lib/python3.7/site-packages (1.27.50)\n",
      "Requirement already satisfied: urllib3<1.27,>=1.25.4 in /usr/local/lib/python3.7/site-packages (from botocore) (1.26.7)\n",
      "Requirement already satisfied: python-dateutil<3.0.0,>=2.1 in /usr/local/lib/python3.7/site-packages (from botocore) (2.8.2)\n",
      "Requirement already satisfied: jmespath<2.0.0,>=0.7.1 in ./.local/lib/python3.7/site-packages (from botocore) (1.0.1)\n",
      "Requirement already satisfied: six>=1.5 in /usr/local/lib/python3.7/site-packages (from python-dateutil<3.0.0,>=2.1->botocore) (1.16.0)\n",
      "Note: you may need to restart the kernel to use updated packages.\n",
      "Defaulting to user installation because normal site-packages is not writeable\n",
      "Requirement already satisfied: numpy in /usr/local/lib/python3.7/site-packages (1.21.6)\n",
      "Note: you may need to restart the kernel to use updated packages.\n",
      "Defaulting to user installation because normal site-packages is not writeable\n",
      "Requirement already satisfied: pandas in /usr/local/lib/python3.7/site-packages (1.3.5)\n",
      "Requirement already satisfied: pytz>=2017.3 in /usr/local/lib/python3.7/site-packages (from pandas) (2022.1)\n",
      "Requirement already satisfied: numpy>=1.17.3 in /usr/local/lib/python3.7/site-packages (from pandas) (1.21.6)\n",
      "Requirement already satisfied: python-dateutil>=2.7.3 in /usr/local/lib/python3.7/site-packages (from pandas) (2.8.2)\n",
      "Requirement already satisfied: six>=1.5 in /usr/local/lib/python3.7/site-packages (from python-dateutil>=2.7.3->pandas) (1.16.0)\n",
      "Note: you may need to restart the kernel to use updated packages.\n",
      "Defaulting to user installation because normal site-packages is not writeable\n",
      "Requirement already satisfied: python-dateutil in /usr/local/lib/python3.7/site-packages (2.8.2)\n",
      "Requirement already satisfied: six>=1.5 in /usr/local/lib/python3.7/site-packages (from python-dateutil) (1.16.0)\n",
      "Note: you may need to restart the kernel to use updated packages.\n",
      "Defaulting to user installation because normal site-packages is not writeable\n",
      "Requirement already satisfied: python-dotenv in ./.local/lib/python3.7/site-packages (0.20.0)\n",
      "Note: you may need to restart the kernel to use updated packages.\n",
      "Defaulting to user installation because normal site-packages is not writeable\n",
      "Requirement already satisfied: urllib3 in /usr/local/lib/python3.7/site-packages (1.26.7)\n",
      "Note: you may need to restart the kernel to use updated packages.\n"
     ]
    }
   ],
   "source": [
    "# install required dependencies\n",
    "\n",
    "%pip install --upgrade pip\n",
    "%pip install boto3\n",
    "%pip install botocore\n",
    "%pip install numpy\n",
    "%pip install pandas\n",
    "%pip install python-dateutil\n",
    "%pip install python-dotenv\n",
    "%pip install urllib3"
   ]
  },
  {
   "cell_type": "code",
   "execution_count": 1,
   "metadata": {
    "collapsed": false,
    "jupyter": {
     "outputs_hidden": false
    },
    "pycharm": {
     "name": "#%%\n"
    }
   },
   "outputs": [
    {
     "name": "stdout",
     "output_type": "stream",
     "text": [
      "/data/scripts\n"
     ]
    }
   ],
   "source": [
    "# load the environment variables from .env file (in the same location as this .ipynb file)\n",
    "%reload_ext dotenv\n",
    "%dotenv\n",
    "import os\n",
    "import sys\n",
    "os.getcwd()\n",
    "print(os.getcwd() + '/scripts')\n",
    "sys.path.append(os.getcwd() + '/scripts')\n",
    "sys.path.append(os.getcwd() + '/scripts/external')"
   ]
  },
  {
   "cell_type": "code",
   "execution_count": 2,
   "metadata": {
    "collapsed": false,
    "jupyter": {
     "outputs_hidden": false
    },
    "pycharm": {
     "name": "#%%\n"
    }
   },
   "outputs": [
    {
     "name": "stdout",
     "output_type": "stream",
     "text": [
      "gds://bssh.69fbb80cfe7635369366247c9c8b1a82/datasets/app.aps1-sh-prod.491493/\n",
      "NPM1000B52_90119\n",
      "gds://bssh.69fbb80cfe7635369366247c9c8b1a82/datasets/app.aps1-sh-prod.491495/\n",
      "NPM1000B53_90120\n",
      "gds://bssh.69fbb80cfe7635369366247c9c8b1a82/datasets/app.aps1-sh-prod.490525/\n",
      "NPM1000B54_90121\n"
     ]
    }
   ],
   "source": [
    "# get the list of GDS path and sample_id\n",
    "# TODO: make this operate over a list of sample names\n",
    "\n",
    "# print(os.getenv('ICA_V1_TOKEN'))\n",
    "# print(os.getenv('AWS_ACCESS_KEY_ID'))\n",
    "# print(os.getenv('AWS_SECRET_ACCESS_KEY'))\n",
    "# print(os.getenv('AWS_SESSION_TOKEN'))\n",
    "\n",
    "from scripts.external import aws_session\n",
    "from scripts.external import dynamo\n",
    "\n",
    "session = aws_session.get_aws_session()\n",
    "\n",
    "# get sample name\n",
    "samples = ['NPM1000B52', 'NPM1000B53', 'NPM1000B54']\n",
    "with open('metric_files/sample_list.txt', 'w') as f:\n",
    "    f.write('\\n'.join(samples))\n",
    "\n",
    "# get GDS path\n",
    "gds_paths_and_sample_ids = []\n",
    "for sample in samples:\n",
    "    sample_data = dynamo.query(pk=sample, sk_prefix='Data Transfer||Preparing||started||', index_name='gsi1pk-gsi1sk-index')\n",
    "    additional_info = sample_data[0]['additionalinfo']\n",
    "    gds_path = additional_info['gds_path']\n",
    "    sample_id = additional_info['sample_id']\n",
    "    print(gds_path)\n",
    "    print(f'{sample}_{sample_id}')\n",
    "    gds_paths_and_sample_ids.append((gds_path, f'{sample}_{sample_id}'))\n",
    "\n",
    "metrics_folder = 'dragen-germline/output/'\n"
   ]
  },
  {
   "cell_type": "code",
   "execution_count": 3,
   "metadata": {
    "collapsed": false,
    "jupyter": {
     "outputs_hidden": false
    },
    "pycharm": {
     "name": "#%%\n"
    }
   },
   "outputs": [
    {
     "name": "stdout",
     "output_type": "stream",
     "text": [
      "/datasets/app.aps1-sh-prod.491493/dragen-germline/output/NPM1000B52_90119.cnv_metrics.csv\n",
      "download_gds_file gds://bssh.69fbb80cfe7635369366247c9c8b1a82/datasets/app.aps1-sh-prod.491493/dragen-germline/output/NPM1000B52_90119.cnv_metrics.csv...\n",
      "/datasets/app.aps1-sh-prod.491493/dragen-germline/output/NPM1000B52_90119.fastqc_metrics.csv\n",
      "download_gds_file gds://bssh.69fbb80cfe7635369366247c9c8b1a82/datasets/app.aps1-sh-prod.491493/dragen-germline/output/NPM1000B52_90119.fastqc_metrics.csv...\n",
      "/datasets/app.aps1-sh-prod.491493/dragen-germline/output/NPM1000B52_90119.gc_metrics.csv\n",
      "download_gds_file gds://bssh.69fbb80cfe7635369366247c9c8b1a82/datasets/app.aps1-sh-prod.491493/dragen-germline/output/NPM1000B52_90119.gc_metrics.csv...\n",
      "/datasets/app.aps1-sh-prod.491493/dragen-germline/output/NPM1000B52_90119.mapping_metrics.csv\n",
      "download_gds_file gds://bssh.69fbb80cfe7635369366247c9c8b1a82/datasets/app.aps1-sh-prod.491493/dragen-germline/output/NPM1000B52_90119.mapping_metrics.csv...\n",
      "/datasets/app.aps1-sh-prod.491493/dragen-germline/output/NPM1000B52_90119.ploidy_estimation_metrics.csv\n",
      "download_gds_file gds://bssh.69fbb80cfe7635369366247c9c8b1a82/datasets/app.aps1-sh-prod.491493/dragen-germline/output/NPM1000B52_90119.ploidy_estimation_metrics.csv...\n",
      "/datasets/app.aps1-sh-prod.491493/dragen-germline/output/NPM1000B52_90119.qc-coverage-region-1_coverage_metrics.csv\n",
      "download_gds_file gds://bssh.69fbb80cfe7635369366247c9c8b1a82/datasets/app.aps1-sh-prod.491493/dragen-germline/output/NPM1000B52_90119.qc-coverage-region-1_coverage_metrics.csv...\n",
      "/datasets/app.aps1-sh-prod.491493/dragen-germline/output/NPM1000B52_90119.roh_metrics.csv\n",
      "download_gds_file gds://bssh.69fbb80cfe7635369366247c9c8b1a82/datasets/app.aps1-sh-prod.491493/dragen-germline/output/NPM1000B52_90119.roh_metrics.csv...\n",
      "/datasets/app.aps1-sh-prod.491493/dragen-germline/output/NPM1000B52_90119.sv_metrics.csv\n",
      "download_gds_file gds://bssh.69fbb80cfe7635369366247c9c8b1a82/datasets/app.aps1-sh-prod.491493/dragen-germline/output/NPM1000B52_90119.sv_metrics.csv...\n",
      "/datasets/app.aps1-sh-prod.491493/dragen-germline/output/NPM1000B52_90119.time_metrics.csv\n",
      "download_gds_file gds://bssh.69fbb80cfe7635369366247c9c8b1a82/datasets/app.aps1-sh-prod.491493/dragen-germline/output/NPM1000B52_90119.time_metrics.csv...\n",
      "/datasets/app.aps1-sh-prod.491493/dragen-germline/output/NPM1000B52_90119.trimmer_metrics.csv\n",
      "download_gds_file gds://bssh.69fbb80cfe7635369366247c9c8b1a82/datasets/app.aps1-sh-prod.491493/dragen-germline/output/NPM1000B52_90119.trimmer_metrics.csv...\n",
      "/datasets/app.aps1-sh-prod.491493/dragen-germline/output/NPM1000B52_90119.vc_metrics.csv\n",
      "download_gds_file gds://bssh.69fbb80cfe7635369366247c9c8b1a82/datasets/app.aps1-sh-prod.491493/dragen-germline/output/NPM1000B52_90119.vc_metrics.csv...\n",
      "/datasets/app.aps1-sh-prod.491493/dragen-germline/output/NPM1000B52_90119.wgs_coverage_metrics.csv\n",
      "download_gds_file gds://bssh.69fbb80cfe7635369366247c9c8b1a82/datasets/app.aps1-sh-prod.491493/dragen-germline/output/NPM1000B52_90119.wgs_coverage_metrics.csv...\n",
      "metric_files/datasets/app.aps1-sh-prod.491493/dragen-germline/output\n",
      "/datasets/app.aps1-sh-prod.491495/dragen-germline/output/NPM1000B53_90120.cnv_metrics.csv\n",
      "download_gds_file gds://bssh.69fbb80cfe7635369366247c9c8b1a82/datasets/app.aps1-sh-prod.491495/dragen-germline/output/NPM1000B53_90120.cnv_metrics.csv...\n",
      "/datasets/app.aps1-sh-prod.491495/dragen-germline/output/NPM1000B53_90120.fastqc_metrics.csv\n",
      "download_gds_file gds://bssh.69fbb80cfe7635369366247c9c8b1a82/datasets/app.aps1-sh-prod.491495/dragen-germline/output/NPM1000B53_90120.fastqc_metrics.csv...\n",
      "/datasets/app.aps1-sh-prod.491495/dragen-germline/output/NPM1000B53_90120.gc_metrics.csv\n",
      "download_gds_file gds://bssh.69fbb80cfe7635369366247c9c8b1a82/datasets/app.aps1-sh-prod.491495/dragen-germline/output/NPM1000B53_90120.gc_metrics.csv...\n",
      "/datasets/app.aps1-sh-prod.491495/dragen-germline/output/NPM1000B53_90120.mapping_metrics.csv\n",
      "download_gds_file gds://bssh.69fbb80cfe7635369366247c9c8b1a82/datasets/app.aps1-sh-prod.491495/dragen-germline/output/NPM1000B53_90120.mapping_metrics.csv...\n",
      "/datasets/app.aps1-sh-prod.491495/dragen-germline/output/NPM1000B53_90120.ploidy_estimation_metrics.csv\n",
      "download_gds_file gds://bssh.69fbb80cfe7635369366247c9c8b1a82/datasets/app.aps1-sh-prod.491495/dragen-germline/output/NPM1000B53_90120.ploidy_estimation_metrics.csv...\n",
      "/datasets/app.aps1-sh-prod.491495/dragen-germline/output/NPM1000B53_90120.qc-coverage-region-1_coverage_metrics.csv\n",
      "download_gds_file gds://bssh.69fbb80cfe7635369366247c9c8b1a82/datasets/app.aps1-sh-prod.491495/dragen-germline/output/NPM1000B53_90120.qc-coverage-region-1_coverage_metrics.csv...\n",
      "/datasets/app.aps1-sh-prod.491495/dragen-germline/output/NPM1000B53_90120.roh_metrics.csv\n",
      "download_gds_file gds://bssh.69fbb80cfe7635369366247c9c8b1a82/datasets/app.aps1-sh-prod.491495/dragen-germline/output/NPM1000B53_90120.roh_metrics.csv...\n",
      "/datasets/app.aps1-sh-prod.491495/dragen-germline/output/NPM1000B53_90120.sv_metrics.csv\n",
      "download_gds_file gds://bssh.69fbb80cfe7635369366247c9c8b1a82/datasets/app.aps1-sh-prod.491495/dragen-germline/output/NPM1000B53_90120.sv_metrics.csv...\n",
      "/datasets/app.aps1-sh-prod.491495/dragen-germline/output/NPM1000B53_90120.time_metrics.csv\n",
      "download_gds_file gds://bssh.69fbb80cfe7635369366247c9c8b1a82/datasets/app.aps1-sh-prod.491495/dragen-germline/output/NPM1000B53_90120.time_metrics.csv...\n",
      "/datasets/app.aps1-sh-prod.491495/dragen-germline/output/NPM1000B53_90120.trimmer_metrics.csv\n",
      "download_gds_file gds://bssh.69fbb80cfe7635369366247c9c8b1a82/datasets/app.aps1-sh-prod.491495/dragen-germline/output/NPM1000B53_90120.trimmer_metrics.csv...\n",
      "/datasets/app.aps1-sh-prod.491495/dragen-germline/output/NPM1000B53_90120.vc_metrics.csv\n",
      "download_gds_file gds://bssh.69fbb80cfe7635369366247c9c8b1a82/datasets/app.aps1-sh-prod.491495/dragen-germline/output/NPM1000B53_90120.vc_metrics.csv...\n",
      "/datasets/app.aps1-sh-prod.491495/dragen-germline/output/NPM1000B53_90120.wgs_coverage_metrics.csv\n",
      "download_gds_file gds://bssh.69fbb80cfe7635369366247c9c8b1a82/datasets/app.aps1-sh-prod.491495/dragen-germline/output/NPM1000B53_90120.wgs_coverage_metrics.csv...\n",
      "metric_files/datasets/app.aps1-sh-prod.491495/dragen-germline/output\n",
      "/datasets/app.aps1-sh-prod.490525/dragen-germline/output/NPM1000B54_90121.cnv_metrics.csv\n",
      "download_gds_file gds://bssh.69fbb80cfe7635369366247c9c8b1a82/datasets/app.aps1-sh-prod.490525/dragen-germline/output/NPM1000B54_90121.cnv_metrics.csv...\n",
      "/datasets/app.aps1-sh-prod.490525/dragen-germline/output/NPM1000B54_90121.fastqc_metrics.csv\n",
      "download_gds_file gds://bssh.69fbb80cfe7635369366247c9c8b1a82/datasets/app.aps1-sh-prod.490525/dragen-germline/output/NPM1000B54_90121.fastqc_metrics.csv...\n",
      "/datasets/app.aps1-sh-prod.490525/dragen-germline/output/NPM1000B54_90121.gc_metrics.csv\n",
      "download_gds_file gds://bssh.69fbb80cfe7635369366247c9c8b1a82/datasets/app.aps1-sh-prod.490525/dragen-germline/output/NPM1000B54_90121.gc_metrics.csv...\n",
      "/datasets/app.aps1-sh-prod.490525/dragen-germline/output/NPM1000B54_90121.mapping_metrics.csv\n",
      "download_gds_file gds://bssh.69fbb80cfe7635369366247c9c8b1a82/datasets/app.aps1-sh-prod.490525/dragen-germline/output/NPM1000B54_90121.mapping_metrics.csv...\n",
      "/datasets/app.aps1-sh-prod.490525/dragen-germline/output/NPM1000B54_90121.ploidy_estimation_metrics.csv\n",
      "download_gds_file gds://bssh.69fbb80cfe7635369366247c9c8b1a82/datasets/app.aps1-sh-prod.490525/dragen-germline/output/NPM1000B54_90121.ploidy_estimation_metrics.csv...\n",
      "/datasets/app.aps1-sh-prod.490525/dragen-germline/output/NPM1000B54_90121.qc-coverage-region-1_coverage_metrics.csv\n",
      "download_gds_file gds://bssh.69fbb80cfe7635369366247c9c8b1a82/datasets/app.aps1-sh-prod.490525/dragen-germline/output/NPM1000B54_90121.qc-coverage-region-1_coverage_metrics.csv...\n",
      "/datasets/app.aps1-sh-prod.490525/dragen-germline/output/NPM1000B54_90121.roh_metrics.csv\n",
      "download_gds_file gds://bssh.69fbb80cfe7635369366247c9c8b1a82/datasets/app.aps1-sh-prod.490525/dragen-germline/output/NPM1000B54_90121.roh_metrics.csv...\n",
      "/datasets/app.aps1-sh-prod.490525/dragen-germline/output/NPM1000B54_90121.sv_metrics.csv\n",
      "download_gds_file gds://bssh.69fbb80cfe7635369366247c9c8b1a82/datasets/app.aps1-sh-prod.490525/dragen-germline/output/NPM1000B54_90121.sv_metrics.csv...\n",
      "/datasets/app.aps1-sh-prod.490525/dragen-germline/output/NPM1000B54_90121.time_metrics.csv\n",
      "download_gds_file gds://bssh.69fbb80cfe7635369366247c9c8b1a82/datasets/app.aps1-sh-prod.490525/dragen-germline/output/NPM1000B54_90121.time_metrics.csv...\n",
      "/datasets/app.aps1-sh-prod.490525/dragen-germline/output/NPM1000B54_90121.trimmer_metrics.csv\n",
      "download_gds_file gds://bssh.69fbb80cfe7635369366247c9c8b1a82/datasets/app.aps1-sh-prod.490525/dragen-germline/output/NPM1000B54_90121.trimmer_metrics.csv...\n",
      "/datasets/app.aps1-sh-prod.490525/dragen-germline/output/NPM1000B54_90121.vc_metrics.csv\n",
      "download_gds_file gds://bssh.69fbb80cfe7635369366247c9c8b1a82/datasets/app.aps1-sh-prod.490525/dragen-germline/output/NPM1000B54_90121.vc_metrics.csv...\n",
      "/datasets/app.aps1-sh-prod.490525/dragen-germline/output/NPM1000B54_90121.wgs_coverage_metrics.csv\n",
      "download_gds_file gds://bssh.69fbb80cfe7635369366247c9c8b1a82/datasets/app.aps1-sh-prod.490525/dragen-germline/output/NPM1000B54_90121.wgs_coverage_metrics.csv...\n",
      "metric_files/datasets/app.aps1-sh-prod.490525/dragen-germline/output\n"
     ]
    }
   ],
   "source": [
    "# run metrics creation script over each sample's metrics CSVs\n",
    "from glob import glob\n",
    "import json\n",
    "from scripts.external import icav1\n",
    "from scripts import make_contractual_and_all_metrics as macam\n",
    "\n",
    "\n",
    "for pair in gds_paths_and_sample_ids:\n",
    "    files = icav1.list_files(gds_folder_path=f'{pair[0]}{metrics_folder}', token=os.getenv('ICA_V1_TOKEN'), page_size=100)\n",
    "    # print(files)\n",
    "    last_file_path = ''\n",
    "    for item in json.loads(files)['items']:\n",
    "        if '_metrics' in item['path']:\n",
    "            print(item['path'])\n",
    "            last_file_path = f'gds://{item[\"volumeName\"]}{item[\"path\"]}'\n",
    "            os.makedirs(os.path.dirname(f'metric_files{item[\"path\"]}'), exist_ok=True)\n",
    "            metric_file = icav1.download_gds_file(last_file_path, token=os.getenv('ICA_V1_TOKEN'))\n",
    "            with open(f'metric_files{item[\"path\"]}', 'w') as f:\n",
    "                f.write(metric_file)\n",
    "\n",
    "    file_dir = f\"metric_files/{last_file_path[len('gds://'):].rsplit('/', 1)[0].split('/', 1)[-1]}\"\n",
    "    print(file_dir)\n",
    "    file_list = [f'{file_dir}/{x}' for x in os.listdir(file_dir)]\n",
    "    # print(file_list)\n",
    "    macam.make_contractual_and_all_metrics(sample_id=pair[1], file_path=file_dir, csv_metrics_files=file_list, output_dir=file_dir)\n",
    "\n",
    "    for file in glob(f'{file_dir}/*_metrics.csv'):\n",
    "        os.remove(file)"
   ]
  },
  {
   "cell_type": "code",
   "execution_count": 4,
   "metadata": {
    "collapsed": false,
    "jupyter": {
     "outputs_hidden": false
    },
    "pycharm": {
     "name": "#%%\n"
    }
   },
   "outputs": [
    {
     "data": {
      "text/plain": [
       "'/data/metric_files.zip'"
      ]
     },
     "execution_count": 4,
     "metadata": {},
     "output_type": "execute_result"
    }
   ],
   "source": [
    "import shutil\n",
    "\n",
    "if os.path.exists('metric_files.zip'):\n",
    "    os.remove('metric_files.zip')\n",
    "shutil.make_archive('metric_files', 'zip', 'metric_files')"
   ]
  },
  {
   "cell_type": "code",
   "execution_count": 5,
   "metadata": {
    "collapsed": false,
    "jupyter": {
     "outputs_hidden": false
    },
    "pycharm": {
     "name": "#%%\n"
    }
   },
   "outputs": [],
   "source": [
    "from datetime import datetime\n",
    "from scripts.external import s3\n",
    "from scripts.config import METRICS_BUCKET\n",
    "\n",
    "now = datetime.now()\n",
    "prefix = now.strftime('%Y%m%d%H%M%S.%f')[:-3]\n",
    "\n",
    "with open('metric_files.zip', 'rb') as fp:\n",
    "    s3.put_to_s3(fp, prefix, 'metric_files.zip')\n"
   ]
  },
  {
   "cell_type": "code",
   "execution_count": null,
   "metadata": {},
   "outputs": [],
   "source": []
  }
 ],
 "metadata": {
  "kernelspec": {
   "display_name": "Python 3 (ipykernel)",
   "language": "python",
   "name": "python3"
  },
  "language_info": {
   "codemirror_mode": {
    "name": "ipython",
    "version": 3
   },
   "file_extension": ".py",
   "mimetype": "text/x-python",
   "name": "python",
   "nbconvert_exporter": "python",
   "pygments_lexer": "ipython3",
   "version": "3.7.12"
  },
  "toc-autonumbering": true,
  "toc-showmarkdowntxt": true,
  "widgets": {
   "application/vnd.jupyter.widget-state+json": {
    "state": {},
    "version_major": 2,
    "version_minor": 0
   }
  }
 },
 "nbformat": 4,
 "nbformat_minor": 4
}
